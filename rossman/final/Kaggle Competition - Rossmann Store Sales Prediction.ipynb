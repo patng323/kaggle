{
 "cells": [
  {
   "cell_type": "markdown",
   "metadata": {},
   "source": [
    "# Kaggle Competition - Rossmann Store Sales Prediction\n",
    "### Date: 2015-12-05\n",
    "\n",
    "## Background\n",
    "\n",
    "### Forecast sales using store, promotion, and competitor data  \n",
    "\n",
    "Rossmann operates over 3,000 drug stores in 7 European countries. Currently, \n",
    "Rossmann store managers are tasked with predicting their daily sales for up to six weeks in advance. Store sales are influenced by many factors, including promotions, competition, school and state holidays, seasonality, and locality. With thousands of individual managers predicting sales based on their unique circumstances, the accuracy of results can be quite varied.  \n",
    "\n",
    "In their first Kaggle competition, Rossmann is challenging competitors to predict 6 weeks of daily sales for 1,115 stores located across Germany. Reliable sales forecasts enable store managers to create effective staff schedules that increase productivity and motivation. \n",
    "\n",
    "Ref: https://www.kaggle.com/c/rossmann-store-sales"
   ]
  },
  {
   "cell_type": "markdown",
   "metadata": {},
   "source": [
    "## Data\n",
    "\n",
    "We are provided with historical sales data for 1,115 Rossmann stores. The task is to forecast the \"Sales\" column for the test set."
   ]
  },
  {
   "cell_type": "markdown",
   "metadata": {},
   "source": [
    "## Exploration Work"
   ]
  },
  {
   "cell_type": "markdown",
   "metadata": {},
   "source": [
    "Exploratory work on the training data was performed in order to get a sense of the distribution of the data, and the importance of different variables.  \n",
    "\n",
    "Visit [here](https://github.com/patng323/kaggle/blob/dev/rossman/final/Exploratory.ipynb) for the detail of the exploration work."
   ]
  },
  {
   "cell_type": "markdown",
   "metadata": {},
   "source": [
    "## Prediction Work\n",
    "\n",
    "I took the one model per store approach, and by comparing multiple algorithms, the Nu Support Vector Regression algorithm was picked, which produced the least Root Mean Square Percentage Error (RMSPE) based on the training data.\n",
    "\n",
    "Visit [here](https://github.com/patng323/kaggle/blob/dev/rossman/final/Prediction.ipynb) for the details of the prediction work.\n"
   ]
  },
  {
   "cell_type": "markdown",
   "metadata": {},
   "source": [
    "## Result\n",
    "\n",
    "The best public RMSPE score achieved was 0.11420.  As a reference, the best score achieved by the competition's winner is 0.08933."
   ]
  },
  {
   "cell_type": "code",
   "execution_count": null,
   "metadata": {
    "collapsed": true
   },
   "outputs": [],
   "source": []
  }
 ],
 "metadata": {
  "kernelspec": {
   "display_name": "Python 2",
   "language": "python",
   "name": "python2"
  },
  "language_info": {
   "codemirror_mode": {
    "name": "ipython",
    "version": 2
   },
   "file_extension": ".py",
   "mimetype": "text/x-python",
   "name": "python",
   "nbconvert_exporter": "python",
   "pygments_lexer": "ipython2",
   "version": "2.7.10"
  }
 },
 "nbformat": 4,
 "nbformat_minor": 0
}
