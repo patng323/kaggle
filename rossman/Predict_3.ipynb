{
 "cells": [
  {
   "cell_type": "code",
   "execution_count": 152,
   "metadata": {
    "collapsed": false
   },
   "outputs": [],
   "source": [
    "# Imports\n",
    "\n",
    "# pandas\n",
    "import pandas as pd\n",
    "from pandas import Series,DataFrame\n",
    "import random\n",
    "import operator\n",
    "import datetime\n",
    "\n",
    "# numpy, matplotlib, seaborn\n",
    "import numpy as np\n",
    "import matplotlib.pyplot as plt\n",
    "import matplotlib.cm as cm\n",
    "import seaborn as sns\n",
    "sns.set_style('whitegrid')\n",
    "%matplotlib inline\n",
    "\n",
    "from sklearn import datasets, linear_model, cross_validation, grid_search, svm, ensemble, kernel_ridge\n",
    "import xgboost as xgb"
   ]
  },
  {
   "cell_type": "code",
   "execution_count": 153,
   "metadata": {
    "collapsed": true
   },
   "outputs": [],
   "source": [
    "np.random.seed(10)\n",
    "random.seed(10)"
   ]
  },
  {
   "cell_type": "code",
   "execution_count": 154,
   "metadata": {
    "collapsed": false
   },
   "outputs": [],
   "source": [
    "def rmspe(y, yhat):\n",
    "    y = y.astype('float')\n",
    "    yhat = yhat.astype('float')\n",
    "    inner = ((y-yhat)/y)**2\n",
    "    return (np.mean(inner))**0.5"
   ]
  },
  {
   "cell_type": "code",
   "execution_count": 155,
   "metadata": {
    "collapsed": false
   },
   "outputs": [],
   "source": [
    "# get rossmann, store, & test csv files as a DataFrame\n",
    "train_df  = pd.read_csv(\"../input/train.csv\")\n",
    "store_df     = pd.read_csv(\"../input/store.csv\")\n",
    "test_df      = pd.read_csv(\"../input/test.csv\")"
   ]
  },
  {
   "cell_type": "markdown",
   "metadata": {},
   "source": [
    "### Data Preprocessing ###"
   ]
  },
  {
   "cell_type": "code",
   "execution_count": 156,
   "metadata": {
    "collapsed": false
   },
   "outputs": [],
   "source": [
    "# Got a warning about column 7 during import.\n",
    "# Fix it by change all 0 to '0'\n",
    "train_df.loc[train_df['StateHoliday'] == 0, 'StateHoliday'] = '0'\n",
    "\n",
    "# Convert the date column in train and test data\n",
    "train_df['Date'] = pd.to_datetime(train_df['Date'], format=\"%Y-%m-%d\")\n",
    "test_df['Date'] = pd.to_datetime(test_df['Date'], format=\"%Y-%m-%d\")\n",
    "\n",
    "# Keep only records where the store is open\n",
    "train_df = train_df[train_df['Open'] == 1]\n",
    "\n",
    "# Keep only records with non-zero sales\n",
    "train_df = train_df[train_df['Sales'] > 0]\n",
    "\n",
    "for i in range(1,13):\n",
    "    month = datetime.date(2008, i, 1).strftime('%b')\n",
    "    store_df['Promo2_' + str(i)] = store_df['Promo2'] * store_df['PromoInterval'].apply(lambda x: month in str(x))\n",
    "\n",
    "# !!!!!!!\n",
    "train_df.drop('StateHoliday', inplace=True, axis=1)\n",
    "train_df.drop('SchoolHoliday', inplace=True, axis=1)\n",
    "test_df.drop('StateHoliday', inplace=True, axis=1)\n",
    "test_df.drop('SchoolHoliday', inplace=True, axis=1)\n"
   ]
  },
  {
   "cell_type": "code",
   "execution_count": 157,
   "metadata": {
    "collapsed": false
   },
   "outputs": [],
   "source": [
    "def convertColToCategory(data, colName, knownCategories):\n",
    "    data.loc[:, colName] = data.loc[:, colName].astype('category', categories=knownCategories)\n",
    "\n",
    "def transformData(inputData):\n",
    "\n",
    "    data = inputData.copy()\n",
    "    startDate = train_df['Date'].min()\n",
    "\n",
    "    # StateHoliday have values of both '0' and 0.  Change all 0 to '0'\n",
    "    #data.loc[data['StateHoliday'] == 0, ('StateHoliday')] = '0'\n",
    "\n",
    "    #data.loc[:, ('daysSince')] = data['Date'].apply(lambda d: (d - startDate).days)\n",
    "    data.loc[:, ('Month')] = data['Date'].apply(lambda d: d.month)\n",
    "    data.loc[:, ('Year')] = data['Date'].apply(lambda d: d.year)\n",
    "    \n",
    "    # Convert categorical columns to category type\n",
    "    convertColToCategory(data, 'DayOfWeek', range(1, 8))\n",
    "    convertColToCategory(data, 'Month', range(1, 13))\n",
    "    convertColToCategory(data, 'Year', range(2013, 2016))\n",
    "    convertColToCategory(data, 'Promo', range(2))\n",
    "    #convertColToCategory(data, 'SchoolHoliday', range(2))\n",
    "    #convertColToCategory(data, 'StateHoliday', list('0abc'))\n",
    "    \n",
    "    \n",
    "    #if 'StoreType' in data.columns:\n",
    "    #    convertColToCategory(data, 'StoreType', list('abcd'))\n",
    "                         \n",
    "    #if 'Assortment' in data.columns:\n",
    "    #    convertColToCategory(data, 'Assortment', list('abc'))\n",
    "\n",
    "    return pd.get_dummies(data)"
   ]
  },
  {
   "cell_type": "code",
   "execution_count": 158,
   "metadata": {
    "collapsed": false
   },
   "outputs": [],
   "source": [
    "store_cols = [i for i in store_df.columns.tolist() if 'Promo2_' in i]\n",
    "store_cols.append('Store')\n",
    "\n",
    "train_full_df = pd.merge(train_df, store_df.ix[:,store_cols], on='Store')\n",
    "#train_full_df = train_df\n",
    "train_data = transformData(train_full_df)\n",
    "\n",
    "train_data.set_index('Date', inplace=True)\n",
    "train_data.sort_index(inplace=True)\n",
    "\n",
    "test_full_df = pd.merge(test_df, store_df.ix[:,store_cols], on='Store')\n",
    "#test_full_df = test_df\n",
    "test_data = transformData(test_full_df)"
   ]
  },
  {
   "cell_type": "code",
   "execution_count": 159,
   "metadata": {
    "collapsed": false
   },
   "outputs": [
    {
     "data": {
      "text/plain": [
       "Index([u'Store', u'Sales', u'Customers', u'Open', u'Promo2_1', u'Promo2_2',\n",
       "       u'Promo2_3', u'Promo2_4', u'Promo2_5', u'Promo2_6', u'Promo2_7',\n",
       "       u'Promo2_8', u'Promo2_9', u'Promo2_10', u'Promo2_11', u'Promo2_12',\n",
       "       u'DayOfWeek_1', u'DayOfWeek_2', u'DayOfWeek_3', u'DayOfWeek_4',\n",
       "       u'DayOfWeek_5', u'DayOfWeek_6', u'DayOfWeek_7', u'Promo_0', u'Promo_1',\n",
       "       u'Month_1', u'Month_2', u'Month_3', u'Month_4', u'Month_5', u'Month_6',\n",
       "       u'Month_7', u'Month_8', u'Month_9', u'Month_10', u'Month_11',\n",
       "       u'Month_12', u'Year_2013', u'Year_2014', u'Year_2015'],\n",
       "      dtype='object')"
      ]
     },
     "execution_count": 159,
     "metadata": {},
     "output_type": "execute_result"
    }
   ],
   "source": [
    "train_data.columns\n"
   ]
  },
  {
   "cell_type": "code",
   "execution_count": 160,
   "metadata": {
    "collapsed": false
   },
   "outputs": [],
   "source": [
    "x_drop_cols = ['Store', 'Sales', 'Customers', 'Open']\n",
    "promo_cols = [i for i in store_df.columns.tolist() if 'Promo2_' in i]\n",
    "\n",
    "def trainModels(algo, fitOnly=False, store=None, includePromo=False, **kwargs):\n",
    "    all_y = []\n",
    "    all_yhat = []\n",
    "    all_rmspe = {}\n",
    "    models = {}\n",
    "    stores_not_in_dev_set = []\n",
    "    \n",
    "    cols_to_drop = list(x_drop_cols)\n",
    "    if not includePromo:\n",
    "        cols_to_drop.extend(promo_cols)\n",
    "    \n",
    "    if store is not None:\n",
    "        data = train_data[train_data['Store'] == store]\n",
    "    else:\n",
    "        data = train_data\n",
    "    \n",
    "    if fitOnly:\n",
    "        train_set = data\n",
    "        dev_set = []\n",
    "    else:\n",
    "        test_cutoff_date = data.index.max() - pd.DateOffset(months = 2)\n",
    "        train_set = data[data.index <= test_cutoff_date]        \n",
    "        dev_set = data[data.index > test_cutoff_date]\n",
    "\n",
    "        # use Aug/Sep 2014 as dev set\n",
    "        #cutoff_head = pd.tslib.Timestamp(np.datetime64('2014-08-01'))\n",
    "        #cutoff_tail = pd.tslib.Timestamp(np.datetime64('2014-09-17'))\n",
    "        #train_set = data[np.logical_or(data.index < cutoff_head, data.index > cutoff_tail)]       \n",
    "        #dev_set = data[np.logical_and(data.index >= cutoff_head, data.index <= cutoff_tail)]\n",
    "        \n",
    "    print \"train_set size:\", len(train_set)\n",
    "    print \"dev_set size:\", len(dev_set)\n",
    "    if len(dev_set) > 0:\n",
    "        print \"dev set: min=%s, max=%s\" % (str(dev_set.index.min()), str(dev_set.index.max()) )\n",
    "    \n",
    "    train_set_grouped = train_set.groupby('Store')\n",
    "    \n",
    "    if not fitOnly:\n",
    "        dev_set_grouped = dev_set.groupby('Store')\n",
    "\n",
    "    for group in train_set_grouped.groups:        \n",
    "        train_X = train_set_grouped.get_group(group).drop(cols_to_drop, axis=1, inplace=False)\n",
    "        train_y = np.log(train_set_grouped.get_group(group)['Sales'])\n",
    "\n",
    "        # One model per store\n",
    "        if algo == 'lr':\n",
    "            model = linear_model.LinearRegression(**kwargs)\n",
    "        elif algo == 'ridge':\n",
    "            model = linear_model.Ridge(**kwargs)\n",
    "        elif algo == 'svr':\n",
    "            model = svm.SVR(**kwargs)\n",
    "        elif algo == 'nsvr':\n",
    "            model = svm.NuSVR(**kwargs)\n",
    "        elif algo == 'rfr':\n",
    "            model = ensemble.RandomForestRegressor(**kwargs)\n",
    "        elif algo == 'kr':\n",
    "            model = kernel_ridge.KernelRidge(**kwargs)\n",
    "        elif algo == 'xgb':\n",
    "            model = xgb.XGBRegressor(**kwargs)\n",
    "            \n",
    "        model.fit(X=train_X, y=train_y)\n",
    "        models[group] = model\n",
    "        \n",
    "        if not fitOnly:\n",
    "            # Temp\n",
    "            if group in dev_set_grouped.groups:\n",
    "            \n",
    "                dev_X = dev_set_grouped.get_group(group).drop(cols_to_drop, axis=1, inplace=False)\n",
    "                dev_y = np.log(dev_set_grouped.get_group(group)['Sales'])\n",
    "                yhat = model.predict(dev_X)\n",
    "\n",
    "                all_y.extend(dev_y.tolist())\n",
    "                all_yhat.extend(yhat.tolist())\n",
    "\n",
    "                all_rmspe[group] = rmspe(np.exp(np.array(dev_y.tolist())), np.exp(yhat))\n",
    "            else:\n",
    "                stores_not_in_dev_set.append(group)\n",
    "\n",
    "    if not fitOnly:\n",
    "        print \"Training model - dev data RMSPE=\", rmspe(np.exp(np.array(all_y)), np.exp(np.array(all_yhat)))\n",
    "        \n",
    "    print \"Model:\\n\", models[data.iloc[0]['Store']]\n",
    "    if len(stores_not_in_dev_set) > 0:\n",
    "        print \"\\nStores not in dev set: \", stores_not_in_dev_set\n",
    "    \n",
    "    return all_rmspe, models\n",
    "\n",
    "\n",
    "\n",
    "def displayRmspes(rmspes):\n",
    "    sorted_x = sorted(rmspes.items(), key=operator.itemgetter(1))\n",
    "    print \"Best 10:\\n\"\n",
    "    print sorted_x[:10]\n",
    "    print \"\\bWorst 10:\\n\"\n",
    "    print sorted_x[-10:]\n",
    "    \n",
    "def plotResult(models, store, rmspes, dateRange=None):\n",
    "    fig, axis = plt.subplots(figsize=(15,4))\n",
    "    data = train_data[train_data['Store'] == store]\n",
    "    \n",
    "    if dateRange is not None:\n",
    "        head = pd.tslib.Timestamp(np.datetime64(dateRange[0]))\n",
    "        tail = pd.tslib.Timestamp(np.datetime64(dateRange[1]))\n",
    "        data = data[np.logical_and(data.index >= head, data.index <= tail)]        \n",
    "    \n",
    "    yhat = models[store].predict(data.drop(x_drop_cols, axis=1, inplace=False))\n",
    "    axis.plot(data.index.tolist(), np.log(data['Sales']).tolist(), marker='.',\n",
    "         color='b', linestyle='None', alpha=0.5)\n",
    "    axis.plot(data.index.tolist(), yhat.tolist(), marker='.',\n",
    "     color='r', linestyle='None', alpha=0.5)\n",
    "    axis.set_title('Store = %s; rmspe = %f' % (str(store), rmspes[store]))"
   ]
  },
  {
   "cell_type": "code",
   "execution_count": 161,
   "metadata": {
    "collapsed": true
   },
   "outputs": [],
   "source": [
    "storeid = None\n",
    "includePromo = True"
   ]
  },
  {
   "cell_type": "code",
   "execution_count": 162,
   "metadata": {
    "collapsed": false
   },
   "outputs": [
    {
     "name": "stdout",
     "output_type": "stream",
     "text": [
      "train_set size: 785727\n",
      "dev_set size: 58611\n",
      "dev set: min=2015-06-01 00:00:00, max=2015-07-31 00:00:00\n",
      "Training model - dev data RMSPE= 0.141174121055\n",
      "Model:\n",
      "LinearRegression(copy_X=True, fit_intercept=True, n_jobs=1, normalize=False)\n"
     ]
    }
   ],
   "source": [
    "rmspes, models = trainModels('lr', storeid, includePromo = includePromo)"
   ]
  },
  {
   "cell_type": "code",
   "execution_count": 163,
   "metadata": {
    "collapsed": false
   },
   "outputs": [],
   "source": [
    "#rmspes, models = trainModels('svr', store=None, includePromo = includePromo, cache_size=900)"
   ]
  },
  {
   "cell_type": "code",
   "execution_count": 164,
   "metadata": {
    "collapsed": false
   },
   "outputs": [
    {
     "name": "stdout",
     "output_type": "stream",
     "text": [
      "train_set size: 785727\n",
      "dev_set size: 58611\n",
      "dev set: min=2015-06-01 00:00:00, max=2015-07-31 00:00:00\n",
      "Training model - dev data RMSPE= 0.126791703666\n",
      "Model:\n",
      "NuSVR(C=1.0, cache_size=900, coef0=0.0, degree=3, gamma='auto', kernel='rbf',\n",
      "   max_iter=-1, nu=0.8, shrinking=True, tol=0.001, verbose=False)\n"
     ]
    }
   ],
   "source": [
    "rmspes, models = trainModels('nsvr', store=None, includePromo = includePromo, cache_size=900, nu=0.8, C=1.0)\n"
   ]
  },
  {
   "cell_type": "code",
   "execution_count": 165,
   "metadata": {
    "collapsed": false
   },
   "outputs": [
    {
     "name": "stdout",
     "output_type": "stream",
     "text": [
      "Best 10:\n",
      "\n",
      "[(974, 0.066575251553563336), (523, 0.067665716164997031), (783, 0.069702107525504681), (423, 0.070379823636023395), (1080, 0.07083914957418605), (562, 0.072060871436608345), (245, 0.072377612262845517), (260, 0.073779539848055825), (498, 0.074046834651123022), (613, 0.074508662199322326)]\n",
      "\bWorst 10:\n",
      "\n",
      "[(1039, 0.3066301857439423), (550, 0.32066377662593959), (711, 0.3386872723853448), (876, 0.35749741128836837), (286, 0.36000129265894348), (770, 0.36206801037223341), (782, 0.48332450783742814), (909, 0.56172182295427653), (415, 0.73839651222256186), (292, 0.73980893701236061)]\n"
     ]
    }
   ],
   "source": [
    "displayRmspes(rmspes)\n",
    "\n",
    "#sorted_x = sorted(rmspes.items(), key=operator.itemgetter(1))\n",
    "#[x[0] for x in sorted_x[-10:]]"
   ]
  },
  {
   "cell_type": "code",
   "execution_count": 166,
   "metadata": {
    "collapsed": false
   },
   "outputs": [
    {
     "data": {
      "text/plain": [
       "(array([  34.,  153.,  310.,  261.,  151.,   79.,   40.,   22.,   17.,\n",
       "          12.,    6.,    7.,    4.,    2.,    3.,    2.,    1.,    2.,\n",
       "           1.,    0.,    1.,    3.,    0.,    0.,    0.,    0.,    0.,\n",
       "           0.,    0.,    0.,    1.,    0.,    0.,    0.,    0.,    0.,\n",
       "           1.,    0.,    0.,    0.,    0.,    0.,    0.,    0.,    0.,\n",
       "           0.,    0.,    0.,    0.,    2.]),\n",
       " array([ 0.06657525,  0.08003993,  0.0935046 ,  0.10696927,  0.12043395,\n",
       "         0.13389862,  0.14736329,  0.16082797,  0.17429264,  0.18775731,\n",
       "         0.20122199,  0.21468666,  0.22815134,  0.24161601,  0.25508068,\n",
       "         0.26854536,  0.28201003,  0.2954747 ,  0.30893938,  0.32240405,\n",
       "         0.33586873,  0.3493334 ,  0.36279807,  0.37626275,  0.38972742,\n",
       "         0.40319209,  0.41665677,  0.43012144,  0.44358612,  0.45705079,\n",
       "         0.47051546,  0.48398014,  0.49744481,  0.51090948,  0.52437416,\n",
       "         0.53783883,  0.55130351,  0.56476818,  0.57823285,  0.59169753,\n",
       "         0.6051622 ,  0.61862687,  0.63209155,  0.64555622,  0.65902089,\n",
       "         0.67248557,  0.68595024,  0.69941492,  0.71287959,  0.72634426,\n",
       "         0.73980894]),\n",
       " <a list of 50 Patch objects>)"
      ]
     },
     "execution_count": 166,
     "metadata": {},
     "output_type": "execute_result"
    },
    {
     "data": {
      "image/png": "[encoded data removed]",
      "text/plain": [
       "<matplotlib.figure.Figure at 0x1336bdf10>"
      ]
     },
     "metadata": {},
     "output_type": "display_data"
    }
   ],
   "source": [
    "plt.hist(rmspes.values(), bins=50)"
   ]
  },
  {
   "cell_type": "code",
   "execution_count": 168,
   "metadata": {
    "collapsed": false
   },
   "outputs": [
    {
     "data": {
      "image/png": "[encoded data removed]",
      "text/plain": [
       "<matplotlib.figure.Figure at 0x134273810>"
      ]
     },
     "metadata": {},
     "output_type": "display_data"
    }
   ],
   "source": [
    "#plotResult(models, 292, rmspes, ['2013-07-01', '2013-09-30'])\n",
    "#plotResult(models, 292, rmspes, ['2014-07-01', '2014-09-30'])\n",
    "plotResult(models, 292, rmspes)\n"
   ]
  },
  {
   "cell_type": "code",
   "execution_count": 142,
   "metadata": {
    "collapsed": false
   },
   "outputs": [
    {
     "name": "stdout",
     "output_type": "stream",
     "text": [
      "train_set size: 844338\n",
      "dev_set size: 0\n",
      "Model:\n",
      "NuSVR(C=1.0, cache_size=900, coef0=0.0, degree=3, gamma='auto', kernel='rbf',\n",
      "   max_iter=-1, nu=0.8, shrinking=True, tol=0.001, verbose=False)\n"
     ]
    }
   ],
   "source": [
    "rmspes, models = trainModels('nsvr', fitOnly=True, store=None, includePromo = includePromo, cache_size=900, nu=0.8)"
   ]
  },
  {
   "cell_type": "code",
   "execution_count": null,
   "metadata": {
    "collapsed": false
   },
   "outputs": [],
   "source": [
    "#rmspes, models = trainModels('rfr', n_jobs=-1, n_estimators=100)"
   ]
  },
  {
   "cell_type": "code",
   "execution_count": null,
   "metadata": {
    "collapsed": false
   },
   "outputs": [],
   "source": [
    "#rmspes, models = trainModels('kr')\n"
   ]
  },
  {
   "cell_type": "markdown",
   "metadata": {},
   "source": [
    "## Make Predictions on Test data ##"
   ]
  },
  {
   "cell_type": "code",
   "execution_count": 143,
   "metadata": {
    "collapsed": true
   },
   "outputs": [],
   "source": [
    "def makePredictions(data, includePromo = False):\n",
    "    test_ids = []\n",
    "    test_yhats = []\n",
    "\n",
    "    grouped = data.groupby('Store')\n",
    "\n",
    "    cols_to_drop = list(['Id', 'Date', 'Store', 'Open'])\n",
    "    if not includePromo:\n",
    "        cols_to_drop.extend(promo_cols)    \n",
    "\n",
    "    for storeId, group in grouped:\n",
    "        ids = group['Id']\n",
    "        X = group.drop(cols_to_drop, axis=1, inplace=False)\n",
    "\n",
    "        yhat = np.exp(models[storeId].predict(X))\n",
    "\n",
    "        # Ignore prediction and set Sales to zero hen the store is closed\n",
    "        yhat[np.array(group['Open'] == 0)] = 0\n",
    "        test_yhats += yhat.tolist()\n",
    "        test_ids += ids.tolist()\n",
    "\n",
    "    res = [[i, y] for i, y in zip(test_ids, test_yhats)]\n",
    "    return sorted(res, key=lambda x: x[0])"
   ]
  },
  {
   "cell_type": "code",
   "execution_count": 144,
   "metadata": {
    "collapsed": false
   },
   "outputs": [],
   "source": [
    "result = makePredictions(test_data, includePromo = includePromo)"
   ]
  },
  {
   "cell_type": "code",
   "execution_count": 145,
   "metadata": {
    "collapsed": false
   },
   "outputs": [],
   "source": [
    "f = open(\"submission.csv\", \"w\")\n",
    "f.write('\"Id\",\"Sales\"\\n')\n",
    "\n",
    "for r in result:\n",
    "    f.write(\"%d,%d\\n\" % (r[0],int(r[1])))\n",
    "    \n",
    "f.close()\n"
   ]
  },
  {
   "cell_type": "code",
   "execution_count": 146,
   "metadata": {
    "collapsed": false
   },
   "outputs": [
    {
     "name": "stdout",
     "output_type": "stream",
     "text": [
      "<class 'pandas.core.frame.DataFrame'>\n",
      "Int64Index: 41088 entries, 0 to 41087\n",
      "Data columns (total 2 columns):\n",
      "Id       41088 non-null int64\n",
      "Sales    41088 non-null int64\n",
      "dtypes: int64(2)\n",
      "memory usage: 963.0 KB\n"
     ]
    }
   ],
   "source": [
    "# Quick check to make sure the file isn't corrupted.\n",
    "df = pd.read_csv('submission.csv')\n",
    "df.info()\n"
   ]
  },
  {
   "cell_type": "markdown",
   "metadata": {},
   "source": [
    "#### Misc stuff ####"
   ]
  },
  {
   "cell_type": "code",
   "execution_count": 545,
   "metadata": {
    "collapsed": false
   },
   "outputs": [],
   "source": [
    "def littleTest(includePromo):\n",
    "    # Test prediction using some input generated from training data\n",
    "    random_idx = random.sample(train_df.index.tolist(), 100)\n",
    "\n",
    "    try_df = train_df.loc[random_idx]\n",
    "    try_y = try_df['Sales']\n",
    "    try_df.drop(['Sales', 'Customers'], axis=1, inplace=True)\n",
    "    try_df[\"Id\"] = range(1, len(try_df) + 1)\n",
    "    try_data = transformData(pd.merge(try_df, store_df.ix[:,store_cols], on='Store'))\n",
    "    #try_data = transformData(try_df)\n",
    "\n",
    "    result = makePredictions(try_data, includePromo )\n",
    "    try_yhat = np.array([r[1] for r in result])\n",
    "\n",
    "    print rmspe(try_y, try_yhat)"
   ]
  },
  {
   "cell_type": "code",
   "execution_count": 546,
   "metadata": {
    "collapsed": false
   },
   "outputs": [
    {
     "name": "stdout",
     "output_type": "stream",
     "text": [
      "0.11283791086\n"
     ]
    }
   ],
   "source": [
    "littleTest(includePromo)"
   ]
  },
  {
   "cell_type": "code",
   "execution_count": null,
   "metadata": {
    "collapsed": true
   },
   "outputs": [],
   "source": []
  }
 ],
 "metadata": {
  "kernelspec": {
   "display_name": "Python 2",
   "language": "python",
   "name": "python2"
  },
  "language_info": {
   "codemirror_mode": {
    "name": "ipython",
    "version": 2
   },
   "file_extension": ".py",
   "mimetype": "text/x-python",
   "name": "python",
   "nbconvert_exporter": "python",
   "pygments_lexer": "ipython2",
   "version": "2.7.10"
  }
 },
 "nbformat": 4,
 "nbformat_minor": 0
}
